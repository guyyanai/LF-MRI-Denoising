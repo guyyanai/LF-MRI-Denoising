{
 "cells": [
  {
   "cell_type": "code",
   "execution_count": 2,
   "id": "df5a2dac",
   "metadata": {},
   "outputs": [],
   "source": [
    "%load_ext tensorboard"
   ]
  },
  {
   "cell_type": "code",
   "execution_count": 3,
   "id": "f256944c",
   "metadata": {},
   "outputs": [
    {
     "name": "stdout",
     "output_type": "stream",
     "text": [
      "\u001b[33mDEPRECATION: Loading egg at /users/kolodny/gyanai/miniconda3/lib/python3.13/site-packages/CLEAN-0.1-py3.13.egg is deprecated. pip 25.1 will enforce this behaviour change. A possible replacement is to use pip for package installation. Discussion can be found at https://github.com/pypa/pip/issues/12330\u001b[0m\u001b[33m\n",
      "\u001b[0mLooking in indexes: https://pypi.org/simple, https://pypi.ngc.nvidia.com\n",
      "Requirement already satisfied: x-unet in /users/kolodny/gyanai/miniconda3/lib/python3.13/site-packages (0.4.0)\n",
      "Requirement already satisfied: beartype in /users/kolodny/gyanai/miniconda3/lib/python3.13/site-packages (from x-unet) (0.21.0)\n",
      "Requirement already satisfied: einops>=0.4 in /users/kolodny/gyanai/miniconda3/lib/python3.13/site-packages (from x-unet) (0.8.1)\n",
      "Requirement already satisfied: torch>=1.6 in /users/kolodny/gyanai/miniconda3/lib/python3.13/site-packages (from x-unet) (2.7.1)\n",
      "Requirement already satisfied: filelock in /users/kolodny/gyanai/miniconda3/lib/python3.13/site-packages (from torch>=1.6->x-unet) (3.18.0)\n",
      "Requirement already satisfied: typing-extensions>=4.10.0 in /users/kolodny/gyanai/miniconda3/lib/python3.13/site-packages (from torch>=1.6->x-unet) (4.12.2)\n",
      "Requirement already satisfied: setuptools in /users/kolodny/gyanai/miniconda3/lib/python3.13/site-packages (from torch>=1.6->x-unet) (78.1.1)\n",
      "Requirement already satisfied: sympy>=1.13.3 in /users/kolodny/gyanai/miniconda3/lib/python3.13/site-packages (from torch>=1.6->x-unet) (1.14.0)\n",
      "Requirement already satisfied: networkx in /users/kolodny/gyanai/miniconda3/lib/python3.13/site-packages (from torch>=1.6->x-unet) (3.5)\n",
      "Requirement already satisfied: jinja2 in /users/kolodny/gyanai/miniconda3/lib/python3.13/site-packages (from torch>=1.6->x-unet) (3.1.6)\n",
      "Requirement already satisfied: fsspec in /users/kolodny/gyanai/miniconda3/lib/python3.13/site-packages (from torch>=1.6->x-unet) (2025.5.1)\n",
      "Requirement already satisfied: nvidia-cuda-nvrtc-cu12==12.6.77 in /users/kolodny/gyanai/miniconda3/lib/python3.13/site-packages (from torch>=1.6->x-unet) (12.6.77)\n",
      "Requirement already satisfied: nvidia-cuda-runtime-cu12==12.6.77 in /users/kolodny/gyanai/miniconda3/lib/python3.13/site-packages (from torch>=1.6->x-unet) (12.6.77)\n",
      "Requirement already satisfied: nvidia-cuda-cupti-cu12==12.6.80 in /users/kolodny/gyanai/miniconda3/lib/python3.13/site-packages (from torch>=1.6->x-unet) (12.6.80)\n",
      "Requirement already satisfied: nvidia-cudnn-cu12==9.5.1.17 in /users/kolodny/gyanai/miniconda3/lib/python3.13/site-packages (from torch>=1.6->x-unet) (9.5.1.17)\n",
      "Requirement already satisfied: nvidia-cublas-cu12==12.6.4.1 in /users/kolodny/gyanai/miniconda3/lib/python3.13/site-packages (from torch>=1.6->x-unet) (12.6.4.1)\n",
      "Requirement already satisfied: nvidia-cufft-cu12==11.3.0.4 in /users/kolodny/gyanai/miniconda3/lib/python3.13/site-packages (from torch>=1.6->x-unet) (11.3.0.4)\n",
      "Requirement already satisfied: nvidia-curand-cu12==10.3.7.77 in /users/kolodny/gyanai/miniconda3/lib/python3.13/site-packages (from torch>=1.6->x-unet) (10.3.7.77)\n",
      "Requirement already satisfied: nvidia-cusolver-cu12==11.7.1.2 in /users/kolodny/gyanai/miniconda3/lib/python3.13/site-packages (from torch>=1.6->x-unet) (11.7.1.2)\n",
      "Requirement already satisfied: nvidia-cusparse-cu12==12.5.4.2 in /users/kolodny/gyanai/miniconda3/lib/python3.13/site-packages (from torch>=1.6->x-unet) (12.5.4.2)\n",
      "Requirement already satisfied: nvidia-cusparselt-cu12==0.6.3 in /users/kolodny/gyanai/miniconda3/lib/python3.13/site-packages (from torch>=1.6->x-unet) (0.6.3)\n",
      "Requirement already satisfied: nvidia-nccl-cu12==2.26.2 in /users/kolodny/gyanai/miniconda3/lib/python3.13/site-packages (from torch>=1.6->x-unet) (2.26.2)\n",
      "Requirement already satisfied: nvidia-nvtx-cu12==12.6.77 in /users/kolodny/gyanai/miniconda3/lib/python3.13/site-packages (from torch>=1.6->x-unet) (12.6.77)\n",
      "Requirement already satisfied: nvidia-nvjitlink-cu12==12.6.85 in /users/kolodny/gyanai/miniconda3/lib/python3.13/site-packages (from torch>=1.6->x-unet) (12.6.85)\n",
      "Requirement already satisfied: nvidia-cufile-cu12==1.11.1.6 in /users/kolodny/gyanai/miniconda3/lib/python3.13/site-packages (from torch>=1.6->x-unet) (1.11.1.6)\n",
      "Requirement already satisfied: triton==3.3.1 in /users/kolodny/gyanai/miniconda3/lib/python3.13/site-packages (from torch>=1.6->x-unet) (3.3.1)\n",
      "Requirement already satisfied: mpmath<1.4,>=1.1.0 in /users/kolodny/gyanai/miniconda3/lib/python3.13/site-packages (from sympy>=1.13.3->torch>=1.6->x-unet) (1.3.0)\n",
      "Requirement already satisfied: MarkupSafe>=2.0 in /users/kolodny/gyanai/miniconda3/lib/python3.13/site-packages (from jinja2->torch>=1.6->x-unet) (3.0.2)\n",
      "\u001b[33mWARNING: Running pip as the 'root' user can result in broken permissions and conflicting behaviour with the system package manager, possibly rendering your system unusable. It is recommended to use a virtual environment instead: https://pip.pypa.io/warnings/venv. Use the --root-user-action option if you know what you are doing and want to suppress this warning.\u001b[0m\u001b[33m\n",
      "\u001b[0m\u001b[33mDEPRECATION: Loading egg at /users/kolodny/gyanai/miniconda3/lib/python3.13/site-packages/CLEAN-0.1-py3.13.egg is deprecated. pip 25.1 will enforce this behaviour change. A possible replacement is to use pip for package installation. Discussion can be found at https://github.com/pypa/pip/issues/12330\u001b[0m\u001b[33m\n",
      "\u001b[0mLooking in indexes: https://pypi.org/simple, https://pypi.ngc.nvidia.com\n",
      "Requirement already satisfied: scikit-learn in /users/kolodny/gyanai/miniconda3/lib/python3.13/site-packages (1.6.1)\n",
      "Requirement already satisfied: numpy>=1.19.5 in /users/kolodny/gyanai/miniconda3/lib/python3.13/site-packages (from scikit-learn) (2.3.0)\n",
      "Requirement already satisfied: scipy>=1.6.0 in /users/kolodny/gyanai/miniconda3/lib/python3.13/site-packages (from scikit-learn) (1.15.3)\n",
      "Requirement already satisfied: joblib>=1.2.0 in /users/kolodny/gyanai/miniconda3/lib/python3.13/site-packages (from scikit-learn) (1.5.1)\n",
      "Requirement already satisfied: threadpoolctl>=3.1.0 in /users/kolodny/gyanai/miniconda3/lib/python3.13/site-packages (from scikit-learn) (3.6.0)\n",
      "\u001b[33mWARNING: Running pip as the 'root' user can result in broken permissions and conflicting behaviour with the system package manager, possibly rendering your system unusable. It is recommended to use a virtual environment instead: https://pip.pypa.io/warnings/venv. Use the --root-user-action option if you know what you are doing and want to suppress this warning.\u001b[0m\u001b[33m\n",
      "\u001b[0m\u001b[33mDEPRECATION: Loading egg at /users/kolodny/gyanai/miniconda3/lib/python3.13/site-packages/CLEAN-0.1-py3.13.egg is deprecated. pip 25.1 will enforce this behaviour change. A possible replacement is to use pip for package installation. Discussion can be found at https://github.com/pypa/pip/issues/12330\u001b[0m\u001b[33m\n",
      "\u001b[0mLooking in indexes: https://pypi.org/simple, https://pypi.ngc.nvidia.com\n",
      "Requirement already satisfied: scikit-image in /users/kolodny/gyanai/miniconda3/lib/python3.13/site-packages (0.25.2)\n",
      "Requirement already satisfied: numpy>=1.24 in /users/kolodny/gyanai/miniconda3/lib/python3.13/site-packages (from scikit-image) (2.3.0)\n",
      "Requirement already satisfied: scipy>=1.11.4 in /users/kolodny/gyanai/miniconda3/lib/python3.13/site-packages (from scikit-image) (1.15.3)\n",
      "Requirement already satisfied: networkx>=3.0 in /users/kolodny/gyanai/miniconda3/lib/python3.13/site-packages (from scikit-image) (3.5)\n",
      "Requirement already satisfied: pillow>=10.1 in /users/kolodny/gyanai/miniconda3/lib/python3.13/site-packages (from scikit-image) (11.2.1)\n",
      "Requirement already satisfied: imageio!=2.35.0,>=2.33 in /users/kolodny/gyanai/miniconda3/lib/python3.13/site-packages (from scikit-image) (2.37.0)\n",
      "Requirement already satisfied: tifffile>=2022.8.12 in /users/kolodny/gyanai/miniconda3/lib/python3.13/site-packages (from scikit-image) (2025.6.11)\n",
      "Requirement already satisfied: packaging>=21 in /users/kolodny/gyanai/miniconda3/lib/python3.13/site-packages (from scikit-image) (24.2)\n",
      "Requirement already satisfied: lazy-loader>=0.4 in /users/kolodny/gyanai/miniconda3/lib/python3.13/site-packages (from scikit-image) (0.4)\n",
      "\u001b[33mWARNING: Running pip as the 'root' user can result in broken permissions and conflicting behaviour with the system package manager, possibly rendering your system unusable. It is recommended to use a virtual environment instead: https://pip.pypa.io/warnings/venv. Use the --root-user-action option if you know what you are doing and want to suppress this warning.\u001b[0m\u001b[33m\n",
      "\u001b[0m"
     ]
    }
   ],
   "source": [
    "!pip install x-unet\n",
    "!pip install scikit-learn\n",
    "!pip install scikit-image"
   ]
  },
  {
   "cell_type": "code",
   "execution_count": 4,
   "id": "5cbbefa6",
   "metadata": {},
   "outputs": [],
   "source": [
    "import random\n",
    "import torch\n",
    "\n",
    "def set_seed(seed: int = 0):\n",
    "    random.seed(seed)\n",
    "    torch.manual_seed(seed)\n",
    "    torch.cuda.manual_seed_all(seed)"
   ]
  },
  {
   "cell_type": "code",
   "execution_count": 5,
   "id": "cea752ae",
   "metadata": {},
   "outputs": [],
   "source": [
    "set_seed()"
   ]
  },
  {
   "cell_type": "code",
   "execution_count": 6,
   "id": "bf8d388a",
   "metadata": {},
   "outputs": [],
   "source": [
    "import os\n",
    "\n",
    "data_path = '/users/kolodny/gyanai/LF-MRI-Denoising/Data'\n",
    "png_folder = os.path.join(data_path, 'Images')\n",
    "\n",
    "checkpoints_path = '/users/kolodny/gyanai/LF-MRI-Denoising/checkpoints'\n",
    "os.makedirs(checkpoints_path, exist_ok=True)"
   ]
  },
  {
   "cell_type": "code",
   "execution_count": 7,
   "id": "802e4a01",
   "metadata": {},
   "outputs": [],
   "source": [
    "import torch\n",
    "from torch.utils.data import Dataset, DataLoader\n",
    "import torchvision.transforms as T\n",
    "from PIL import Image\n",
    "\n",
    "class HighFrequencyDataset(Dataset):\n",
    "    def __init__(self, images_path):\n",
    "        self.images_path = images_path\n",
    "        self.images = self.read_images()\n",
    "\n",
    "    def read_images(self) -> torch.Tensor:\n",
    "        image_file_paths = [f for f in os.listdir(self.images_path) if f.lower().endswith('.png')]\n",
    "        images = [Image.open(os.path.join(self.images_path, img_path)) for img_path in image_file_paths]\n",
    "        return self.transform_images(images)\n",
    "\n",
    "    def transform_images(self, images: list[Image]) -> torch.Tensor:\n",
    "        transform = T.Compose([\n",
    "            T.Resize((256, 256)),\n",
    "            T.ToTensor(),\n",
    "        ])\n",
    "        return torch.stack([transform(image) for image in images])\n",
    "\n",
    "    def __len__(self) -> int:\n",
    "        return len(self.images)\n",
    "\n",
    "    def __getitem__(self, idx) -> torch.Tensor:\n",
    "        return self.images[idx]\n"
   ]
  },
  {
   "cell_type": "code",
   "execution_count": 8,
   "id": "91ffa313",
   "metadata": {},
   "outputs": [],
   "source": [
    "import torch\n",
    "\n",
    "\n",
    "def add_gaussian_noise(x: torch.Tensor, max_sigma: float, min_sigma: float = 0):\n",
    "    sigmas = torch.rand(x.size(0), 1, 1, 1, device=x.device) * (max_sigma - min_sigma) + min_sigma\n",
    "    noise = torch.randn_like(x) * sigmas\n",
    "    return x + noise, sigmas\n",
    "\n",
    "def add_rician_noise(img: torch.Tensor, max_sigma: float, min_sigma: float = 0) -> tuple[torch.Tensor, float]:\n",
    "    \"\"\"\n",
    "    Add Rician noise to an image tensor.\n",
    "\n",
    "    Args:\n",
    "        img (torch.Tensor): Input image (float tensor).\n",
    "        sigma (float): Standard deviation of the underlying Gaussian noise.\n",
    "\n",
    "    Returns:\n",
    "        torch.Tensor: Noisy image with Rician-distributed values.\n",
    "    \"\"\"\n",
    "    sigma = torch.rand(1).item() * (max_sigma - min_sigma) + min_sigma\n",
    "    # Generate Gaussian noise with mean=0, std=sigma\n",
    "    n1 = torch.normal(mean=0.0, std=sigma, size=img.shape, device=img.device)\n",
    "    n2 = torch.normal(mean=0.0, std=sigma, size=img.shape, device=img.device)\n",
    "\n",
    "    # Apply Rician formula\n",
    "    noisy_img = torch.sqrt((img + n1) ** 2 + n2 ** 2)\n",
    "\n",
    "    return noisy_img, sigma\n",
    "\n",
    "# def add_rician_noise(img: torch.Tensor, max_sigma: float, min_sigma: float = 0):\n",
    "#     sigma = np.random.uniform(min_sigma, max_sigma)\n",
    "#     n1 = np.random.normal(0, sigma, img.shape)\n",
    "#     n2 = np.random.normal(0, sigma, img.shape)\n",
    "#     return np.sqrt((img + n1)**2 + n2**2)"
   ]
  },
  {
   "cell_type": "code",
   "execution_count": 9,
   "id": "595f1b5c",
   "metadata": {},
   "outputs": [],
   "source": [
    "from skimage.metrics import peak_signal_noise_ratio as psnr\n",
    "from skimage.metrics import structural_similarity as ssim\n",
    "\n",
    "def compute_psnr(clean_image: torch.Tensor, denoised_image: torch.Tensor):\n",
    "    clean_image = clean_image.cpu().numpy()\n",
    "    denoised_image = denoised_image.cpu().numpy()\n",
    "\n",
    "    return psnr(clean_image, denoised_image, data_range=1.0)\n",
    "\n",
    "def compute_ssim(clean_image: torch.Tensor, denoised_image: torch.Tensor):\n",
    "    clean_image = clean_image.cpu().numpy()\n",
    "    denoised_image = denoised_image.cpu().numpy()\n",
    "\n",
    "    return ssim(clean_image, denoised_image, data_range=1.0)"
   ]
  },
  {
   "cell_type": "code",
   "execution_count": 10,
   "id": "3b5864ec",
   "metadata": {},
   "outputs": [],
   "source": [
    "dataset = HighFrequencyDataset(png_folder)"
   ]
  },
  {
   "cell_type": "code",
   "execution_count": 11,
   "id": "a2682e00",
   "metadata": {},
   "outputs": [],
   "source": [
    "from sklearn.model_selection import train_test_split\n",
    "from torch.utils.data import DataLoader\n",
    "\n",
    "train_dataset, val_dataset = train_test_split(dataset, test_size=0.2, random_state=0)\n",
    "\n",
    "train_loader = DataLoader(train_dataset, batch_size=16, shuffle=True)\n",
    "val_loader = DataLoader(val_dataset, batch_size=16, shuffle=False)"
   ]
  },
  {
   "cell_type": "code",
   "execution_count": 12,
   "id": "dd8dcc97",
   "metadata": {},
   "outputs": [
    {
     "name": "stdout",
     "output_type": "stream",
     "text": [
      "26006\n"
     ]
    }
   ],
   "source": [
    "print(len(train_dataset))"
   ]
  },
  {
   "cell_type": "code",
   "execution_count": 13,
   "id": "415966cf",
   "metadata": {},
   "outputs": [],
   "source": [
    "import torch\n",
    "import torch.nn as nn\n",
    "from x_unet import XUnet\n",
    "\n",
    "# Create an instance of the XUnet model\n",
    "unet = XUnet(\n",
    "    dim=64,\n",
    "    channels=1,\n",
    "    dim_mults=(1, 2, 4, 8),\n",
    "    nested_unet_depths=(7, 4, 2, 1),  # nested unet depths, from unet-squared paper\n",
    "    consolidate_upsample_fmaps=True,  # whether to consolidate outputs from all upsample blocks, used in unet-squared paper\n",
    ")\n",
    "\n",
    "unet = nn.Sequential(unet, nn.Sigmoid())"
   ]
  },
  {
   "cell_type": "code",
   "execution_count": 14,
   "id": "e09275b9",
   "metadata": {},
   "outputs": [],
   "source": [
    "device = torch.device(\"cuda\" if torch.cuda.is_available() else \"cpu\")\n",
    "unet = unet.to(device)"
   ]
  },
  {
   "cell_type": "code",
   "execution_count": 15,
   "id": "2fe8ca7d",
   "metadata": {},
   "outputs": [],
   "source": [
    "LEARNING_RATE = 1e-3\n",
    "WEIGHT_DECAY = 1e-4\n",
    "\n",
    "# Define optimizer\n",
    "opt = torch.optim.AdamW(unet.parameters(), lr=LEARNING_RATE, weight_decay=WEIGHT_DECAY)"
   ]
  },
  {
   "cell_type": "code",
   "execution_count": 16,
   "id": "8ba5254b",
   "metadata": {},
   "outputs": [],
   "source": [
    "import torch.nn as nn\n",
    "\n",
    "# Define the loss function\n",
    "mse_loss = nn.MSELoss()"
   ]
  },
  {
   "cell_type": "code",
   "execution_count": null,
   "id": "fbbc321b",
   "metadata": {},
   "outputs": [
    {
     "name": "stderr",
     "output_type": "stream",
     "text": [
      "Epoch 1/10: 100%|█████████████████████████████████████████████████████████████████████████████████████████████████████████████████████████████████████████| 1626/1626 [14:11<00:00,  1.91it/s, loss=0.0019]\n"
     ]
    },
    {
     "name": "stdout",
     "output_type": "stream",
     "text": [
      "Epoch 1 | train 0.00224864\n",
      "Epoch 1 | val 0.00212921 | best 0.00212921\n"
     ]
    },
    {
     "name": "stderr",
     "output_type": "stream",
     "text": [
      "Epoch 2/10: 100%|█████████████████████████████████████████████████████████████████████████████████████████████████████████████████████████████████████████| 1626/1626 [14:11<00:00,  1.91it/s, loss=0.0021]\n"
     ]
    },
    {
     "name": "stdout",
     "output_type": "stream",
     "text": [
      "Epoch 2 | train 0.00212937\n",
      "Epoch 2 | val 0.00212261 | best 0.00212261\n"
     ]
    },
    {
     "name": "stderr",
     "output_type": "stream",
     "text": [
      "Epoch 3/10: 100%|█████████████████████████████████████████████████████████████████████████████████████████████████████████████████████████████████████████| 1626/1626 [14:10<00:00,  1.91it/s, loss=0.0031]\n"
     ]
    },
    {
     "name": "stdout",
     "output_type": "stream",
     "text": [
      "Epoch 3 | train 0.00210938\n",
      "Epoch 3 | val 0.00215662 | best 0.00212261\n"
     ]
    },
    {
     "name": "stderr",
     "output_type": "stream",
     "text": [
      "Epoch 4/10: 100%|█████████████████████████████████████████████████████████████████████████████████████████████████████████████████████████████████████████| 1626/1626 [14:10<00:00,  1.91it/s, loss=0.0024]\n"
     ]
    },
    {
     "name": "stdout",
     "output_type": "stream",
     "text": [
      "Epoch 4 | train 0.00215312\n",
      "Epoch 4 | val 0.00216327 | best 0.00212261\n"
     ]
    },
    {
     "name": "stderr",
     "output_type": "stream",
     "text": [
      "Epoch 5/10: 100%|█████████████████████████████████████████████████████████████████████████████████████████████████████████████████████████████████████████| 1626/1626 [14:09<00:00,  1.91it/s, loss=0.0023]\n"
     ]
    },
    {
     "name": "stdout",
     "output_type": "stream",
     "text": [
      "Epoch 5 | train 0.00212257\n",
      "Epoch 5 | val 0.00212265 | best 0.00212261\n"
     ]
    },
    {
     "name": "stderr",
     "output_type": "stream",
     "text": [
      "Epoch 6/10: 100%|█████████████████████████████████████████████████████████████████████████████████████████████████████████████████████████████████████████| 1626/1626 [14:10<00:00,  1.91it/s, loss=0.0022]\n"
     ]
    },
    {
     "name": "stdout",
     "output_type": "stream",
     "text": [
      "Epoch 6 | train 0.00212449\n",
      "Epoch 6 | val 0.00213701 | best 0.00212261\n"
     ]
    },
    {
     "name": "stderr",
     "output_type": "stream",
     "text": [
      "Epoch 7/10: 100%|█████████████████████████████████████████████████████████████████████████████████████████████████████████████████████████████████████████| 1626/1626 [14:10<00:00,  1.91it/s, loss=0.0018]\n"
     ]
    },
    {
     "name": "stdout",
     "output_type": "stream",
     "text": [
      "Epoch 7 | train 0.00213074\n",
      "Epoch 7 | val 0.00217108 | best 0.00212261\n"
     ]
    },
    {
     "name": "stderr",
     "output_type": "stream",
     "text": [
      "Epoch 8/10:  84%|██████████████████████████████████████████████████████████████████████████████████████████████████████████████████▍                      | 1358/1626 [11:50<02:20,  1.91it/s, loss=0.0024]"
     ]
    }
   ],
   "source": [
    "from tqdm import tqdm\n",
    "import torch.nn.functional as F\n",
    "\n",
    "NOISE_STD = 0.08\n",
    "EPOCHS = 10\n",
    "MODEL_OUT_DIR = os.path.join(checkpoints_path, 'vanilla')\n",
    "\n",
    "os.makedirs(MODEL_OUT_DIR, exist_ok=True)\n",
    "\n",
    "\n",
    "best_val = float(\"inf\")\n",
    "\n",
    "for epoch in range(1, EPOCHS + 1):\n",
    "    unet.train()\n",
    "    pbar = tqdm(iter(train_loader), desc=f\"Epoch {epoch}/{EPOCHS}\")\n",
    "    \n",
    "    train_loss = 0.0\n",
    "\n",
    "    for x in pbar:\n",
    "        x = x.to(device)\n",
    "        x_noisy, _ = add_gaussian_noise(x, NOISE_STD)\n",
    "        pred_noise = unet(x_noisy)          # predict clean image directly\n",
    "        pred = x_noisy - pred_noise\n",
    "        loss = mse_loss(pred, x)     # MSE loss\n",
    "        loss.backward()\n",
    "        opt.step()\n",
    "        opt.zero_grad()\n",
    "\n",
    "        train_loss += loss.item()\n",
    "\n",
    "        pbar.set_postfix(loss=f\"{loss.item():.4f}\")\n",
    "\n",
    "    train_loss /= len(train_loader)\n",
    "    tqdm.write(f\"Epoch {epoch} | train {train_loss:.8f}\")\n",
    "\n",
    "    # validation\n",
    "    unet.eval()\n",
    "    val_loss = 0.0\n",
    "    with torch.no_grad():\n",
    "        for xv in iter(val_loader):\n",
    "            xv = xv.to(device)\n",
    "            xv_noisy, _ = add_gaussian_noise(xv, NOISE_STD)\n",
    "            pred_noise = unet(xv_noisy)\n",
    "            pred = xv_noisy - pred_noise\n",
    "            val_loss += mse_loss(pred, xv).item()\n",
    "    val_loss /= len(val_loader)\n",
    "\n",
    "    # track best\n",
    "    if val_loss < best_val:\n",
    "        best_val = val_loss\n",
    "        torch.save(unet.state_dict(), os.path.join(MODEL_OUT_DIR, \"best_model.pt\"))\n",
    "\n",
    "    tqdm.write(f\"Epoch {epoch} | val {val_loss:.8f} | best {best_val:.8f}\")"
   ]
  },
  {
   "cell_type": "code",
   "execution_count": null,
   "id": "c4db7537",
   "metadata": {},
   "outputs": [],
   "source": [
    "import matplotlib.pyplot as plt\n",
    "\n",
    "_ = unet.eval()"
   ]
  },
  {
   "cell_type": "code",
   "execution_count": null,
   "id": "b183eda7",
   "metadata": {},
   "outputs": [
    {
     "ename": "NameError",
     "evalue": "name 'torch' is not defined",
     "output_type": "error",
     "traceback": [
      "\u001b[31m---------------------------------------------------------------------------\u001b[39m",
      "\u001b[31mNameError\u001b[39m                                 Traceback (most recent call last)",
      "\u001b[36mCell\u001b[39m\u001b[36m \u001b[39m\u001b[32mIn[1]\u001b[39m\u001b[32m, line 1\u001b[39m\n\u001b[32m----> \u001b[39m\u001b[32m1\u001b[39m vd = torch.concat(val_dataset).unsqueeze(\u001b[32m1\u001b[39m)\n\u001b[32m      3\u001b[39m random_indices = torch.randint(\n\u001b[32m      4\u001b[39m     \u001b[32m0\u001b[39m, \u001b[38;5;28mlen\u001b[39m(vd), (\u001b[32m5\u001b[39m,)\n\u001b[32m      5\u001b[39m )  \u001b[38;5;66;03m# just to make sure the model is loaded correctly\u001b[39;00m\n\u001b[32m      6\u001b[39m plt.figure(figsize=(\u001b[32m15\u001b[39m, \u001b[32m25\u001b[39m))\n",
      "\u001b[31mNameError\u001b[39m: name 'torch' is not defined"
     ]
    }
   ],
   "source": [
    "vd = torch.concat(val_dataset).unsqueeze(1)\n",
    "\n",
    "random_indices = torch.randint(\n",
    "    0, len(vd), (5,)\n",
    ")  # just to make sure the model is loaded correctly\n",
    "plt.figure(figsize=(15, 25))\n",
    "\n",
    "with torch.no_grad():\n",
    "    for i, xv in enumerate(vd[random_indices]):\n",
    "        xv = xv.to(device).unsqueeze(0)\n",
    "        xv_noisy, sigma = add_gaussian_noise(xv, 0.08, 0.03)\n",
    "        pred_noise = unet(xv_noisy)\n",
    "        pred = (xv_noisy - pred_noise).clamp(0, 1)\n",
    "        clamped_noisy = xv_noisy.clamp(0, 1)\n",
    "\n",
    "        plt.subplot(5, 3, i * 3 + 1)\n",
    "        plt.imshow(xv.cpu().numpy().squeeze(), cmap=\"gray\")\n",
    "        plt.title(\"Original\")\n",
    "        plt.axis(\"off\")\n",
    "\n",
    "        plt.subplot(5, 3, i * 3 + 2)\n",
    "        plt.imshow(clamped_noisy.cpu().numpy().squeeze(), cmap=\"gray\")\n",
    "        plt.title(\n",
    "            f\"Noisy\\nsigma: {sigma.item():.4f}\\n(psnr: {compute_psnr(xv.squeeze(), clamped_noisy.squeeze()):.4f}, ssim: {compute_ssim(xv.squeeze(), clamped_noisy.squeeze()):.4f})\",\n",
    "            wrap=True,\n",
    "        )\n",
    "        plt.axis(\"off\")\n",
    "\n",
    "        plt.subplot(5, 3, i * 3 + 3)\n",
    "        plt.imshow(pred.cpu().numpy().squeeze(), cmap=\"gray\")\n",
    "        plt.title(\n",
    "            f\"Denoised\\n(psnr: {compute_psnr(xv.squeeze(), pred.squeeze()):.4f}, ssim: {compute_ssim(xv.squeeze(), pred.squeeze()):.4f})\",\n",
    "            wrap=True,\n",
    "        )\n",
    "        plt.axis(\"off\")\n",
    "\n",
    "plt.tight_layout()\n",
    "plt.show()"
   ]
  },
  {
   "cell_type": "code",
   "execution_count": null,
   "id": "e96be858",
   "metadata": {},
   "outputs": [
    {
     "name": "stderr",
     "output_type": "stream",
     "text": [
      "100%|██████████████████████████████████████████████████████████████████████████████████████████████████████████████████████████████████████████████████████████████████| 6502/6502 [05:05<00:00, 21.26it/s]"
     ]
    },
    {
     "name": "stdout",
     "output_type": "stream",
     "text": [
      "Validation Loss: 0.0023875821988717533\n",
      "Validation PSNR: 26.848815629173597\n",
      "Validation SSIM: 0.48496769629742076\n"
     ]
    },
    {
     "name": "stderr",
     "output_type": "stream",
     "text": [
      "\n"
     ]
    }
   ],
   "source": [
    "validation_loss = []\n",
    "validation_psnr = []\n",
    "validation_ssim = []\n",
    "\n",
    "for xv in tqdm(vd):\n",
    "    with torch.no_grad():\n",
    "        xv = xv.to(device).unsqueeze(0)\n",
    "        xv_noisy, sigma = add_gaussian_noise(xv, 0.08, 0.03)\n",
    "        pred_noise = unet(xv_noisy)\n",
    "        pred = (xv_noisy - pred_noise).clamp(0, 1)\n",
    "\n",
    "    validation_loss.append(mse_loss(pred, xv).item())\n",
    "    validation_psnr.append(compute_psnr(xv.squeeze(), pred.squeeze()))\n",
    "    validation_ssim.append(compute_ssim(xv.squeeze(), pred.squeeze()))\n",
    "\n",
    "print(f\"Validation Loss: {sum(validation_loss)/len(validation_loss)}\")\n",
    "print(f\"Validation PSNR: {sum(validation_psnr)/len(validation_psnr)}\")\n",
    "print(f\"Validation SSIM: {sum(validation_ssim)/len(validation_ssim)}\")"
   ]
  }
 ],
 "metadata": {
  "kernelspec": {
   "display_name": "Python (base)",
   "language": "python",
   "name": "base"
  },
  "language_info": {
   "codemirror_mode": {
    "name": "ipython",
    "version": 3
   },
   "file_extension": ".py",
   "mimetype": "text/x-python",
   "name": "python",
   "nbconvert_exporter": "python",
   "pygments_lexer": "ipython3",
   "version": "3.13.2"
  }
 },
 "nbformat": 4,
 "nbformat_minor": 5
}
