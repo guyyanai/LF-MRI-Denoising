{
 "cells": [
  {
   "cell_type": "code",
   "execution_count": null,
   "id": "f256944c",
   "metadata": {},
   "outputs": [],
   "source": [
    "!pip install x-unet "
   ]
  },
  {
   "cell_type": "code",
   "execution_count": 4,
   "id": "bf8d388a",
   "metadata": {},
   "outputs": [],
   "source": [
    "import os\n",
    "\n",
    "data_path = 'data'\n",
    "png_folder = os.path.join(data_path, 'images')"
   ]
  },
  {
   "cell_type": "code",
   "execution_count": null,
   "id": "5be9e0cb",
   "metadata": {},
   "outputs": [],
   "source": [
    "from PIL import Image\n",
    "\n",
    "# Load images\n",
    "img_files = [f for f in os.listdir(png_folder) if f.lower().endswith('.png')]\n",
    "images = []\n",
    "for img_file in img_files:\n",
    "    img_path = os.path.join(png_folder, img_file)\n",
    "    img = Image.open(img_path)\n",
    "    images.append(img)"
   ]
  },
  {
   "cell_type": "code",
   "execution_count": 11,
   "id": "6b6be740",
   "metadata": {},
   "outputs": [],
   "source": [
    "import torchvision.transforms as T\n",
    "import torch\n",
    "\n",
    "# Define transformations\n",
    "transform = T.Compose([\n",
    "    T.Resize((256, 256)),\n",
    "    T.ToTensor(),\n",
    "])\n",
    "\n",
    "transformed = torch.stack([transform(image) for image in images])"
   ]
  },
  {
   "cell_type": "code",
   "execution_count": 12,
   "id": "853de9c1",
   "metadata": {},
   "outputs": [
    {
     "data": {
      "text/plain": [
       "torch.Size([902, 1, 256, 256])"
      ]
     },
     "execution_count": 12,
     "metadata": {},
     "output_type": "execute_result"
    }
   ],
   "source": [
    "transformed.shape"
   ]
  },
  {
   "cell_type": "code",
   "execution_count": 2,
   "id": "415966cf",
   "metadata": {},
   "outputs": [],
   "source": [
    "import torch\n",
    "from x_unet import XUnet\n",
    "\n",
    "# Create an instance of the XUnet model\n",
    "unet = XUnet(\n",
    "    dim = 64,\n",
    "    channels = 1,\n",
    "    dim_mults = (1, 2, 4, 8),\n",
    "    nested_unet_depths = (7, 4, 2, 1),     # nested unet depths, from unet-squared paper\n",
    "    consolidate_upsample_fmaps = True,     # whether to consolidate outputs from all upsample blocks, used in unet-squared paper\n",
    ")"
   ]
  },
  {
   "cell_type": "code",
   "execution_count": null,
   "id": "ffae4077",
   "metadata": {},
   "outputs": [],
   "source": []
  }
 ],
 "metadata": {
  "kernelspec": {
   "display_name": "base",
   "language": "python",
   "name": "python3"
  },
  "language_info": {
   "codemirror_mode": {
    "name": "ipython",
    "version": 3
   },
   "file_extension": ".py",
   "mimetype": "text/x-python",
   "name": "python",
   "nbconvert_exporter": "python",
   "pygments_lexer": "ipython3",
   "version": "3.13.2"
  }
 },
 "nbformat": 4,
 "nbformat_minor": 5
}
