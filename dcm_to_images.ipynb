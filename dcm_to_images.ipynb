{
 "cells": [
  {
   "cell_type": "markdown",
   "id": "6c8efd2f",
   "metadata": {},
   "source": [
    "# Read the DCIM to one folder "
   ]
  },
  {
   "cell_type": "code",
   "execution_count": 1,
   "id": "8853895b",
   "metadata": {},
   "outputs": [
    {
     "name": "stdout",
     "output_type": "stream",
     "text": [
      "✅ All DICOM files collected and renamed.\n"
     ]
    }
   ],
   "source": [
    "import os\n",
    "import shutil\n",
    "\n",
    "# Root folder containing patient folders\n",
    "root_dir = 'Prostate Fused-MRI-Pathology'\n",
    "# Target directory for collecting all DICOM files\n",
    "output_dir = 'dcm_files'\n",
    "\n",
    "# Create the output directory if it doesn't exist\n",
    "os.makedirs(output_dir, exist_ok=True)\n",
    "\n",
    "# Walk through patient folders\n",
    "for patient_id in os.listdir(root_dir):\n",
    "    patient_path = os.path.join(root_dir, patient_id)\n",
    "    if not os.path.isdir(patient_path):\n",
    "        continue\n",
    "\n",
    "    # Iterate over scan folders inside patient folder\n",
    "    for scan_folder in os.listdir(patient_path):\n",
    "        scan_path = os.path.join(patient_path, scan_folder)\n",
    "        if not os.path.isdir(scan_path):\n",
    "            continue\n",
    "\n",
    "        # Iterate through all subfolders and files in scan folder\n",
    "        for root, _, files in os.walk(scan_path):\n",
    "            for file in files:\n",
    "                if file.lower().endswith('.dcm'):\n",
    "                    original_path = os.path.join(root, file)\n",
    "\n",
    "                    # Construct unique filename\n",
    "                    safe_scan_folder = scan_folder.replace(\" \", \"_\").replace(\"/\", \"-\")\n",
    "                    new_filename = f\"{patient_id}__{safe_scan_folder}__{file}\"\n",
    "\n",
    "                    # Output path\n",
    "                    target_path = os.path.join(output_dir, new_filename)\n",
    "\n",
    "                    # Copy file\n",
    "                    shutil.copy2(original_path, target_path)\n",
    "\n",
    "print(\"✅ All DICOM files collected and renamed.\")\n"
   ]
  },
  {
   "cell_type": "code",
   "execution_count": 2,
   "id": "24702fc0",
   "metadata": {},
   "outputs": [
    {
     "name": "stdout",
     "output_type": "stream",
     "text": [
      "Finished copying all DCM files.\n"
     ]
    }
   ],
   "source": [
    "import os\n",
    "import shutil\n",
    "\n",
    "# Define locations\n",
    "main_folder = 'Prostate Fused-MRI-Pathology'\n",
    "output_folder = 'dcm_files'\n",
    "\n",
    "if not os.path.exists(output_folder):\n",
    "    os.makedirs(output_folder)\n",
    "\n",
    "for patient_id in os.listdir(main_folder):\n",
    "    patient_path = os.path.join(main_folder, patient_id)\n",
    "    if os.path.isdir(patient_path):\n",
    "        for study_folder in os.listdir(patient_path):\n",
    "            study_path = os.path.join(patient_path, study_folder)\n",
    "            if os.path.isdir(study_path):\n",
    "                # Recursively walk all subfolders within the study_folder\n",
    "                for root, dirs, files in os.walk(study_path):\n",
    "                    for file in files:\n",
    "                        if file.lower().endswith('.dcm'):\n",
    "                            dcm_path = os.path.join(root, file)\n",
    "                            # Get subfolder path(s) under study_folder\n",
    "                            rel_path = os.path.relpath(root, study_path)\n",
    "                            rel_path_clean = rel_path.replace(os.sep, '_')\n",
    "                            new_filename = (\n",
    "                                f\"{patient_id}__{study_folder}\"\n",
    "                                f\"{'__' + rel_path_clean if rel_path_clean != '.' else ''}\"\n",
    "                                f\"__{file}\"\n",
    "                            )\n",
    "                            target_path = os.path.join(output_folder, new_filename)\n",
    "                            shutil.copy2(dcm_path, target_path)\n",
    "\n",
    "print(\"Finished copying all DCM files.\")\n"
   ]
  },
  {
   "cell_type": "code",
   "execution_count": null,
   "id": "942257f4",
   "metadata": {},
   "outputs": [],
   "source": [
    "import os\n",
    "import pydicom\n",
    "import numpy as np\n",
    "from PIL import Image\n",
    "\n",
    "# Input and output directories\n",
    "dcm_folder = 'dcm_files'\n",
    "img_folder = 'Images'\n",
    "os.makedirs(img_folder, exist_ok=True)\n",
    "\n",
    "# Helper function to normalize pixel array to 0-255\n",
    "def normalize_to_uint8(arr):\n",
    "    arr = arr.astype(np.float32)\n",
    "    arr -= arr.min()\n",
    "    arr /= (arr.max() + 1e-8)\n",
    "    arr *= 255.0\n",
    "    return arr.astype(np.uint8)\n",
    "\n",
    "# Convert all DICOM files to PNG images\n",
    "for filename in os.listdir(dcm_folder):\n",
    "    if filename.lower().endswith('.dcm'):\n",
    "        dcm_path = os.path.join(dcm_folder, filename)\n",
    "        try:\n",
    "            ds = pydicom.dcmread(dcm_path)\n",
    "            img_array = ds.pixel_array\n",
    "            img_uint8 = normalize_to_uint8(img_array)\n",
    "            img = Image.fromarray(img_uint8)\n",
    "            # Save as PNG with same base name\n",
    "            out_path = os.path.join(img_folder, filename.replace('.dcm', '.png'))\n",
    "            img.save(out_path)\n",
    "        except Exception as e:\n",
    "            print(f'Failed to convert {filename}: {e}')\n",
    "\n",
    "print('✅ All DICOM files converted to PNG images in dcm_images.')"
   ]
  },
  {
   "cell_type": "code",
   "execution_count": null,
   "id": "b4c0d585",
   "metadata": {},
   "outputs": [],
   "source": [
    "import os\n",
    "from PIL import Image\n",
    "import matplotlib.pyplot as plt\n",
    "\n",
    "# Pick one image from the dcm_images folder\n",
    "img_folder = 'dcm_images'\n",
    "img_files = [f for f in os.listdir(img_folder) if f.lower().endswith('.png')]\n",
    "if img_files:\n",
    "    img_path = os.path.join(img_folder, img_files[0])\n",
    "    img = Image.open(img_path)\n",
    "    plt.imshow(img, cmap='gray')\n",
    "    plt.title(f'Example image: {img_files[0]}')\n",
    "    plt.axis('off')\n",
    "    plt.show()\n",
    "else:\n",
    "    print('No PNG images found in dcm_images.')"
   ]
  }
 ],
 "metadata": {
  "kernelspec": {
   "display_name": "Python 3",
   "language": "python",
   "name": "python3"
  },
  "language_info": {
   "codemirror_mode": {
    "name": "ipython",
    "version": 3
   },
   "file_extension": ".py",
   "mimetype": "text/x-python",
   "name": "python",
   "nbconvert_exporter": "python",
   "pygments_lexer": "ipython3",
   "version": "3.9.13"
  }
 },
 "nbformat": 4,
 "nbformat_minor": 5
}
